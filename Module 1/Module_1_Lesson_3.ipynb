{
 "cells": [
  {
   "cell_type": "markdown",
   "metadata": {},
   "source": [
    "In this lesson, we are adding more components into the original phugoid motion analysis"
   ]
  },
  {
   "cell_type": "code",
   "execution_count": 1,
   "metadata": {},
   "outputs": [],
   "source": [
    "# we must load modules and libraries that we need for this problem"
   ]
  },
  {
   "cell_type": "code",
   "execution_count": 2,
   "metadata": {},
   "outputs": [],
   "source": [
    "import math\n",
    "import numpy\n",
    "from matplotlib import pyplot\n",
    "%matplotlib inline"
   ]
  },
  {
   "cell_type": "code",
   "execution_count": 3,
   "metadata": {},
   "outputs": [],
   "source": [
    "#now, we have to globally set font family and size for all plots\n",
    "pyplot.rcParams['font.family'] = 'serif'\n",
    "pyplot.rcParams['font.size'] = 16"
   ]
  },
  {
   "cell_type": "code",
   "execution_count": 4,
   "metadata": {},
   "outputs": [],
   "source": [
    "# set parameters and constants for this lesson\n",
    "g = 9.81 # gravity\n",
    "vt = 30.0 #trim velocity\n",
    "CD = 1.0 / 40 # drag coefficient\n",
    "CL = 1.0 # lift coefficient\n",
    "\n",
    "# initial conditions\n",
    "v0 = vt #begin at trim velocity\n",
    "theta0 = 0.0 #starting trajectory angle\n",
    "x0 = 0.0 # starting horizontal position\n",
    "y0 = 1000.0 #starting altitude"
   ]
  },
  {
   "cell_type": "markdown",
   "metadata": {},
   "source": [
    "now, we must create a function that matches the full differential system in vector form. "
   ]
  },
  {
   "cell_type": "code",
   "execution_count": 5,
   "metadata": {},
   "outputs": [],
   "source": [
    "def rhs_phugoid(u, CL, CD, g, vt):\n",
    "    v, theta, x, y = u\n",
    "    rhs = numpy.array([-g*math.sin(theta) - CD / CL * g / vt**2 * v**2, # this comes from the original equation for v\n",
    "                      -g * math.cos(theta) / v + g / vt**2 *v, #this is equation for theta from equation 15\n",
    "                      v * math.cos(theta), #this is the equation for x position in equation 15\n",
    "                      v * math.sin(theta)]) # this is equation for y position in equation 15\n",
    "    return rhs\n",
    "                       "
   ]
  },
  {
   "cell_type": "code",
   "execution_count": 6,
   "metadata": {},
   "outputs": [],
   "source": [
    "# now we can simply apply euler's method with a simple function shown before\n",
    "def euler_step(u, f, dt, *args):\n",
    "    u_new = u +dt * f(u, *args)\n",
    "    return u_new\n"
   ]
  },
  {
   "cell_type": "code",
   "execution_count": 8,
   "metadata": {},
   "outputs": [],
   "source": [
    "T = 100.0 #length of time interval\n",
    "dt = 0.1 #time-step size\n",
    "N = int(T / dt) +1 # number of time steps\n",
    "\n",
    "#this array stores the solution at each time step\n",
    "u = numpy.empty((N, 4))\n",
    "#initial condition set as above\n",
    "u[0] = numpy.array([v0, theta0, x0, y0])\n",
    "\n",
    "#using euler's method to intigrate:\n",
    "\n",
    "for n in range(N-1):\n",
    "    u[n + 1] = euler_step(u[n], rhs_phugoid, dt, CL, CD, g, vt)"
   ]
  },
  {
   "cell_type": "code",
   "execution_count": 9,
   "metadata": {},
   "outputs": [],
   "source": [
    "# find glider position over time\n",
    "x = u[:, 2]\n",
    "y = u[:, 3]"
   ]
  },
  {
   "cell_type": "markdown",
   "metadata": {},
   "source": [
    "Now we can plot the path of the glider"
   ]
  },
  {
   "cell_type": "code",
   "execution_count": 11,
   "metadata": {},
   "outputs": [
    {
     "data": {
      "text/plain": [
       "[<matplotlib.lines.Line2D at 0x115d946d8>]"
      ]
     },
     "execution_count": 11,
     "metadata": {},
     "output_type": "execute_result"
    },
    {
     "data": {
      "image/png": "[encoded data removed]",
      "text/plain": [
       "<Figure size 648x288 with 1 Axes>"
      ]
     },
     "metadata": {},
     "output_type": "display_data"
    }
   ],
   "source": [
    "pyplot.figure(figsize=(9.0, 4.0))\n",
    "pyplot.title('Location of the glider (flight time = {})'.format(T))\n",
    "pyplot.xlabel('x location')\n",
    "pyplot.ylabel('y location')\n",
    "pyplot.grid()\n",
    "pyplot.plot(x, y, color ='C0', linestyle = '-', linewidth=3)"
   ]
  },
  {
   "cell_type": "markdown",
   "metadata": {},
   "source": [
    "now, we have to use grid convergence of euler's method for the phugoid model to find the convergence of this model"
   ]
  },
  {
   "cell_type": "code",
   "execution_count": 12,
   "metadata": {},
   "outputs": [],
   "source": [
    "# set list of time steps to be used as dt\n",
    "dt_values = [0.1, 0.05, 0.01, 0.005, 0.001]\n",
    "\n",
    "#create an empty list that is going to be filled with solutions of each time step\n",
    "u_values = []\n",
    "\n",
    "for dt in dt_values:\n",
    "    N = int(T / dt) +1 # total number of time steps\n",
    "    #this next array will store solutions at each time step\n",
    "    u = numpy.empty((N, 4))\n",
    "    #set initial conditions as above\n",
    "    u[0] = numpy.array([v0, theta0, x0, y0])\n",
    "    #integrate using euler's method\n",
    "    for n in range(N - 1):\n",
    "        u[n + 1] = euler_step(u[n], rhs_phugoid, dt, CL, CD, g, vt)\n",
    "        # store solutions for present time-step size\n",
    "    u_values.append(u)"
   ]
  },
  {
   "cell_type": "markdown",
   "metadata": {},
   "source": [
    "now, we have to compare the coarser time steps to finer time steps. but, there are more solutions for the timesteps with smaller values. So, we must slice an array to grab subset values from them.\n",
    "\n",
    "create a function that compares the coarser grid to the finest grid, or smallest step size"
   ]
  },
  {
   "cell_type": "code",
   "execution_count": 15,
   "metadata": {},
   "outputs": [],
   "source": [
    "def l1_diff(u_coarse, u_fine, dt):\n",
    "    N_coarse = len(u_coarse)\n",
    "    N_fine = len(u_fine)\n",
    "    ratio = math.ceil(N_fine / N_coarse)\n",
    "    diff = dt* numpy.sum(numpy.abs(u_coarse - u_fine[::ratio]))\n",
    "    return diff"
   ]
  },
  {
   "cell_type": "code",
   "execution_count": 18,
   "metadata": {},
   "outputs": [],
   "source": [
    "#this line creates an empty list to store the difference in the solution\n",
    "# between two consecutive grids.\n",
    "diff_values = []\n",
    "\n",
    "for i, dt in enumerate(dt_values[:-1]):\n",
    "    diff = l1_diff(u_values[i][:, 2], u_values[-1][:,2], dt)\n",
    "    diff_values.append(diff)"
   ]
  },
  {
   "cell_type": "markdown",
   "metadata": {},
   "source": [
    "now, we have to create a plot of the resulted difference between the two results. we use a log-log plot using loglog()."
   ]
  },
  {
   "cell_type": "code",
   "execution_count": null,
   "metadata": {},
   "outputs": [],
   "source": [
    "#plotting difference vs. time step size\n",
    "pyplot.figure(figsize=(6.0, 6.))\n",
    "pyplot.title('difference to smallest size vs step size')\n",
    "p"
   ]
  }
 ],
 "metadata": {
  "kernelspec": {
   "display_name": "Python 3",
   "language": "python",
   "name": "python3"
  },
  "language_info": {
   "codemirror_mode": {
    "name": "ipython",
    "version": 3
   },
   "file_extension": ".py",
   "mimetype": "text/x-python",
   "name": "python",
   "nbconvert_exporter": "python",
   "pygments_lexer": "ipython3",
   "version": "3.6.5"
  }
 },
 "nbformat": 4,
 "nbformat_minor": 2
}
