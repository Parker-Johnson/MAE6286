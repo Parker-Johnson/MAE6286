{
 "cells": [
  {
   "cell_type": "markdown",
   "metadata": {},
   "source": [
    "In this lesson, we will apply what we have learned in the previous lessons about the CFL number and descritiation to solve the second order 1-D diffusion equation"
   ]
  },
  {
   "cell_type": "code",
   "execution_count": 33,
   "metadata": {},
   "outputs": [],
   "source": [
    "import numpy as ny\n",
    "from matplotlib import pyplot as py\n",
    "%matplotlib inline"
   ]
  },
  {
   "cell_type": "code",
   "execution_count": 34,
   "metadata": {},
   "outputs": [],
   "source": [
    "# set the font family and size\n",
    "py.rcParams['font.family'] = 'serif'\n",
    "py.rcParams['font.size'] = 16\n",
    "py.rcParams['animation.ffmpeg_path'] = '/usr/local/bin/ffmpeg'"
   ]
  },
  {
   "cell_type": "code",
   "execution_count": 35,
   "metadata": {},
   "outputs": [],
   "source": [
    "#set parameters\n",
    "nx = 41 #number of spacial gridpoints\n",
    "L = 2.0 # length of domain\n",
    "dx = L / (nx - 1) # spatial grid size\n",
    "nu = 0.3 #viscosity\n",
    "sigma = 0.2 #cfl limit\n",
    "dt = sigma * dx**2 / nu # time-step size\n",
    "nt = 20 #number of time steps to compute\n",
    "\n",
    "# get grid point coordinates.\n",
    "x = ny.linspace(0.0, L, num=nx)\n",
    "\n",
    "# initial conditions\n",
    "u0 = ny.ones(nx)\n",
    "test = ny.where(ny.logical_and(x >= 0.5, x <= 1.0))\n",
    "u0[test] = 2.0"
   ]
  },
  {
   "cell_type": "code",
   "execution_count": 36,
   "metadata": {},
   "outputs": [],
   "source": [
    "# integration in time\n",
    "u = u0.copy()\n",
    "for n in range(nt):\n",
    "    u[1:-1] = u[1:-1] + nu * dt / dx ** 2 * (u[2:] - 2 * u[1:-1] + u[:-2])"
   ]
  },
  {
   "cell_type": "code",
   "execution_count": 37,
   "metadata": {},
   "outputs": [
    {
     "data": {
      "text/plain": [
       "(0.5, 2.5)"
      ]
     },
     "execution_count": 37,
     "metadata": {},
     "output_type": "execute_result"
    },
    {
     "data": {
      "image/png": "[encoded data removed]",
      "text/plain": [
       "<Figure size 432x288 with 1 Axes>"
      ]
     },
     "metadata": {},
     "output_type": "display_data"
    }
   ],
   "source": [
    "#plot the solution after nt time steps and intial conditions\n",
    "py.figure(figsize=(6.0, 4.0))\n",
    "py.xlabel('x')\n",
    "py.ylabel('u')\n",
    "py.grid()\n",
    "py.plot(x, u0, label='Initial', color = 'C0')\n",
    "py.plot(x, u, label= 'nt = {}'.format(nt), color = 'C1')\n",
    "py.legend(loc='upper right')\n",
    "py.xlim(0.0, L)\n",
    "py.ylim(0.5, 2.5)\n"
   ]
  },
  {
   "cell_type": "markdown",
   "metadata": {},
   "source": [
    "Now we are going to use animations to actually watch the diffusion occur in time. we have to import the correct libraries and things."
   ]
  },
  {
   "cell_type": "code",
   "execution_count": 38,
   "metadata": {},
   "outputs": [],
   "source": [
    "from matplotlib import animation\n",
    "from IPython.display import HTML"
   ]
  },
  {
   "cell_type": "code",
   "execution_count": 39,
   "metadata": {},
   "outputs": [],
   "source": [
    "def diffusion( u0, sigma = 0.5, nt = 20):\n",
    "    u_hist = [u0.copy()]\n",
    "    u = u0.copy()\n",
    "    for n in range(nt):\n",
    "        u[1:-1] = u[1:-1] + sigma * (u[2:] - 2 * u[1:-1] + u[:-2])\n",
    "        u_hist.append(u.copy())\n",
    "    return u_hist\n",
    "    "
   ]
  },
  {
   "cell_type": "code",
   "execution_count": 40,
   "metadata": {},
   "outputs": [],
   "source": [
    "# compute total history of solution\n",
    "u_hist = diffusion(u0, sigma=sigma, nt=nt)"
   ]
  },
  {
   "cell_type": "markdown",
   "metadata": {},
   "source": [
    "Now, we create the figure that we want to animate. IT is simply our initial condition to begin with"
   ]
  },
  {
   "cell_type": "code",
   "execution_count": 41,
   "metadata": {},
   "outputs": [
    {
     "data": {
      "image/png": "[encoded data removed]",
      "text/plain": [
       "<Figure size 432x288 with 1 Axes>"
      ]
     },
     "metadata": {},
     "output_type": "display_data"
    }
   ],
   "source": [
    "fig = py.figure(figsize = (6.0, 4.0))\n",
    "py.xlabel('x')\n",
    "py.ylabel('u')\n",
    "py.grid()\n",
    "line = py.plot(x, u0, color='C0')[0]\n",
    "py.xlim(0.0, L)\n",
    "py.ylim(0.5, 2.5)\n",
    "fig.tight_layout()"
   ]
  },
  {
   "cell_type": "code",
   "execution_count": 42,
   "metadata": {},
   "outputs": [],
   "source": [
    "def update_plot(n, u_hist):\n",
    "    \n",
    "    fig.suptitle('Time Step {:0>2}'.format(n))\n",
    "    line.set_ydata(u_hist[n])"
   ]
  },
  {
   "cell_type": "code",
   "execution_count": null,
   "metadata": {},
   "outputs": [],
   "source": []
  },
  {
   "cell_type": "code",
   "execution_count": 43,
   "metadata": {},
   "outputs": [],
   "source": [
    "anim = animation.FuncAnimation(fig, update_plot,\n",
    "                              frames=nt, fargs=(u_hist,),\n",
    "                              interval=100)"
   ]
  },
  {
   "cell_type": "code",
   "execution_count": 44,
   "metadata": {},
   "outputs": [
    {
     "data": {
      "text/html": [
       "<video width=\"432\" height=\"288\" controls autoplay loop>\n",
       "  <source type=\"video/mp4\" src=\"data:video/mp4;base64,AAAAHGZ0eXBNNFYgAAACAGlzb21pc28yYXZjMQAAAAhmcmVlAAAztG1kYXQAAAKuBgX//6rcRem9\n",
       "5tlIt5Ys2CDZI+7veDI2NCAtIGNvcmUgMTUyIHIyODU0IGU5YTU5MDMgLSBILjI2NC9NUEVHLTQg\n",
       "QVZDIGNvZGVjIC0gQ29weWxlZnQgMjAwMy0yMDE3IC0gaHR0cDovL3d3dy52aWRlb2xhbi5vcmcv\n",
       "eDI2NC5odG1sIC0gb3B0aW9uczogY2FiYWM9MSByZWY9MyBkZWJsb2NrPTE6MDowIGFuYWx5c2U9\n",
       "MHgzOjB4MTEzIG1lPWhleCBzdWJtZT03IHBzeT0xIHBzeV9yZD0xLjAwOjAuMDAgbWl4ZWRfcmVm\n",
       "PTEgbWVfcmFuZ2U9MTYgY2hyb21hX21lPTEgdHJlbGxpcz0xIDh4OGRjdD0xIGNxbT0wIGRlYWR6\n",
       "b25lPTIxLDExIGZhc3RfcHNraXA9MSBjaHJvbWFfcXBfb2Zmc2V0PS0yIHRocmVhZHM9NiBsb29r\n",
       "YWhlYWRfdGhyZWFkcz0xIHNsaWNlZF90aHJlYWRzPTAgbnI9MCBkZWNpbWF0ZT0xIGludGVybGFj\n",
       "ZWQ9MCBibHVyYXlfY29tcGF0PTAgY29uc3RyYWluZWRfaW50cmE9MCBiZnJhbWVzPTMgYl9weXJh\n",
       "bWlkPTIgYl9hZGFwdD0xIGJfYmlhcz0wIGRpcmVjdD0xIHdlaWdodGI9MSBvcGVuX2dvcD0wIHdl\n",
       "aWdodHA9MiBrZXlpbnQ9MjUwIGtleWludF9taW49MTAgc2NlbmVjdXQ9NDAgaW50cmFfcmVmcmVz\n",
       "aD0wIHJjX2xvb2thaGVhZD00MCByYz1jcmYgbWJ0cmVlPTEgY3JmPTIzLjAgcWNvbXA9MC42MCBx\n",
       "cG1pbj0wIHFwbWF4PTY5IHFwc3RlcD00IGlwX3JhdGlvPTEuNDAgYXE9MToxLjAwAIAAABJPZYiE\n",
       "ABH//veIHzLLafk613IR560urR9Q7mffRBab+mALFR8Sw0Iy8JZBFjswgIdACl4k+47ZEcoomett\n",
       "W/cAOXiDU9UoRvmxHuawFxr/05sI8/7W5E4JBkGb8lov52nwwyygL//k6ZFqCG9v5NzpAT8SK8q9\n",
       "LqPyWaj7Abo/Qu7HOzKRCvh/HB/W1qpQEs6XpEZup227Ge5cAw79gTBbuiNNafmoQR2jpAMvWLGh\n",
       "5YTbGJca2MrRHJcZobwIUX3EsRyJB02f4O5SPudlNj5eAVDB3U9/X4q++MheO2mDQyuC9WBoYQN7\n",
       "lOFp1Qof6bttF6Zl/dSI1hQ+/FU7iRHBeUWSLxxxPX0Mc7Io//yxIDhnh8qYqObwahFmvaoDHMPj\n",
       "VhUmMhsBK3b7GnqU1/nIC3z0q01/7FpR5/T3pKG0xXJez1F9QoulShJ0O4rnoYEvR4rOJiM/oywU\n",
       "6NaCo85lVx5bcLpmM5JEoTjepWWjQpdpMoAZ/SgL4WotLuNhPxGXZnzxTsc8lpQjVSS0aL0TALV1\n",
       "8MNyTz7dZ5EEKiyJobqFmLX9/Rkz7yuZmmePEYuo3uc2q9GTsT1ym/ToFs3j930APLjNL7MpOU8i\n",
       "fCTMU9MHy2dCrQpfnyom1pm2A7MnVXfF9pOup7En1I3N6s/FX/KByyolnzSrPKBur9yxyl2mrQ5O\n",
       "zNSyLuMmUDfz3cVBRi7Bg7Ps+edPkxUiJmQYDI//fUo/MXT26pzMyaSqdx5cVavkHJMXfNSWxAOj\n",
       "Ze4+p+56vKOoeAIS+PcLLm03SkcuJ7yrIhQnpDJWRykuuDhglmlfLJGvwAHpCWL06UQ25p3z99YP\n",
       "Vr6bP/tPsTzveXTj8jhb+O00zd47qtxoJZpR1sxZOnzK3XT3N7kR57RRcENem3bDkBJgq6xECn2u\n",
       "nh3rN67SyUP9H9qPOgEloJR2x3IrOEn2uZBhtSYyma4znqCaFiTYuCBkXFcLjP/wv2mRXBrpZhhN\n",
       "F3OiZ+yDlw81PbSFfyfJPqxm5GPFKoKwnCNifjDmOiC89kh4DcmquxT19Q52Px9nNCuuKjYB0J3V\n",
       "OFgr7b7y4c7e2fYbj31UMLE1lQOCjDhambU7UpvaKgI+IvEM0l4mNJdnP5YZobIVn4HlJRMPgvb/\n",
       "qdnmEq6U2E3Pvi7MXSLCeSdOXtWRrOTUZH3QsbHITlQGqL7Gwp1StG1tMzGI33u2mG5GBUggHyDh\n",
       "fL6s5G65Etz20x4FNFO3O8CHZBBXz5CzTNo/soAb1IrafNfh/4+qJrSv89zrNMRW6Dl49QQh5GUQ\n",
       "R+Cx/VjsZ1cOSAn6Y++sF/DnFl2pvQMy/YqbiXPnnejyThn/CKl2wdg/hkYAQnlbNInkHfZzmUNS\n",
       "MwUuAsciOE2OSlhNlPsOx29+P0SAONsF/KHSPJsrLj5j7WMoD1G8MeQX2AAF52szhMXx5MfPR1Li\n",
       "PAL5adSjhM8S9oJspTWijMof9Pgq0F0/FQIo8KbsQmw6JX191pUOEXe6pRcn7awF3rkJfvC59UVg\n",
       "vmUaagmOBNRrKmFlDI6pd9nWALcg9xuW0FClAwMZMpSZXkRJKBo0vqFF3lOY2jZNOWnqPbKIATjg\n",
       "SzLmOsCkL2In2Xqa+cQN57oDbuNHY8RBy8ZeEgFWQCn04ibS49/fsr3jZTECCjyb4ev/GGa4LCvZ\n",
       "rmttibZA4TPnf7GJTIPGNOh2J1jsEqkOCQKjZ1/voeskoRN5q054Bf6p5LahPsYjaFcfRRreuof0\n",
       "STFCV8u9hR755LDAbaNv7QoHpkavkyJzh03pasaWPP/nq6cDP6xPYasAtHKVYe1bFQT4+H1ueAQ9\n",
       "b6wwg19rAHm3yDLoPFZkDHMBBcB+3ENUg7i79gB7z9AjiWF5Rt3ClofOOC3oiNwc1riTEnx4UMyJ\n",
       "RE7s75qtfLvlgLHC8TjdtPaG4xeJ5nIpzJ9AY5sYkxN+naT/z/Ym7O/SKiaX24cf6W3tq2+LH7Lx\n",
       "XsXEsVdqS1orFr+ZbRlsxlC2FewsffqW0ovMF5MOmjteXDjEf6AHpJVtH6ZPd/BFBXCYyDtvqvRP\n",
       "Ak5kVNqdyRhD2dh5gGyEEJvMUyzfKwwQhQ108nJkUPUklUv/16lt7gChd1Uw7K/FCgKNR8WZK/dy\n",
       "WJTu/x4QgUq0RaGrvHILAQZtyUtI8oG/mIH+1mLQsBOuw9x14/tSEQK92Se5bp4SMfMLPKsYvrJg\n",
       "CnLBIkHCF90hbPILe3/VUI5W1SkzyhTW9VR8r99N4/gEOCYgVoSwqlvlEmkZcGVY2Wl51S5ZSrEO\n",
       "iI+NCmoVVEYpZ/U2LQMkQ3Ll2lalKCPOE+0PjKqwmym8oijZxYivWzMYibHDBSEBSZehoelytTGE\n",
       "dqE8b9X8WQgVMeGBbAuAR0tpwWvR3Et+sn8axRz/+ZgeFRX5bDSUzBXCHcC7+A/fAP8/+Fut3CqI\n",
       "e8579arj45qnTrYLF/N150VKnSgoV54LRK89vcH8v1WD713lWflVoZdl2t/QHQKjcHUmQXvzuME5\n",
       "NIbSTVXX+QcSBEzjBRSNAOjSd+RomQT/c2ZBFDv9k3vMYC/Cg/pPcEpw03xX+KFjRrMTIlCW97eb\n",
       "xwCKn7ICSBhEtiA1wusU3DPzBfQkGAmV44Ll/nV4obbbkEQ3nCL7LAJHDT/7g9vHHRDFM3jcxU5K\n",
       "DK1e1MlwA/YsTO4xO/v4MxK5i94TjYOMPn2SSXkwTabcrh8KO1U3oJZgSDeTatgwRrdIeLNxcNvo\n",
       "SPHA/37d2ijY6Mzy9QdyB/8n3YmXybXmabPeInVGhfXbZ2kyvq5aG/3Sva06WjRlRRVWcC2x5Y3O\n",
       "2RL/LzeqldIzUJ1Is+YnfKccOKaJVmEN2LyduTSD7D+/LCbjYywXFxMqy1fpirFg1xb05jwZzDTG\n",
       "OnmiB56M52oEPomw48n4KlDnnv4UdP2G4vlaVCM9gETWlM/T6sT7slpPvb/sR17J+XaDctQTAzDc\n",
       "bFfzaBTj9GLBvk+DIyyMF8J8LA11q6223//qJNB9P0Ao3nqaC49qkepOhT993otLS86CfeZr7R2a\n",
       "XuHVebU+bRWOnHFl3bzSHEx9+tbSWvBOh7XMHk/jKHmQFPLghDPH9bbwxOK5iOcaQ2E93T+sfzk+\n",
       "MVEYMcdRq98k74ERSxMrAveshTIuUggwYnEyfs/QXKBTgAwbBaa2VpUEWPyJtMXNVUzdSHKGa4js\n",
       "owN9RzwhxuKGQ3fhxtqNaalcvhXyMK/O187g2/RSk6e5Jv980HMNiJtj+PM47ZXBMHsf2IcSAL/X\n",
       "LrSXjz9HyrniP+iLccvCs+XDwo9Dhrj9Rm3OXZZ1MpZ8/a4MqUHkQFy+FwgiE8IUmvzOP+gHl24E\n",
       "//1AS/pU6obi7HhZl1QeAnbB2FAj0n9nxZWMmuj7Z0I2q5dMOn4aTMpCYmH/bRG5iKgVon6h0h3z\n",
       "6iwiU5Mwtk3Yx+Kng/qdK9wmXn8DWoSe10krSJoP9sZaM/weVnKI0ZPgHMBB22O7BVsAm0LOUjKD\n",
       "mVOMQKT3vNCNBcQ3po4/2gSicfQO7cvZ8XNgxEpK7xm3qWlGa43ZkM14oTuCbaWn6BbLJxVrNlnW\n",
       "4W1XI+WG/9ZTRniKH3Xv8TJctGvvfpNZecC6C8miDso01QphT5z/SMEZcDSGqFnaDwcAHD31YU13\n",
       "LKk0IelPte1BFLUi8UsDaKv1IXnlhyA/4GIR+DiGKzHTRHcGBcuKWl9sLRUFc6MkO+D319bipXOl\n",
       "qB4p/CJ+k2AAW86k/Xz/f1N4MUZv0OMm4kNk3m3v0EpClfk56+KyM3sHgTUUas+13gshBH/cLq+i\n",
       "q6l+rBvFb8AHMlttOfSZZAJPuacvD0C8XCf1tQgkNCsJQw/svfxZWyXgZHshLYkBTL3MEbofDnZu\n",
       "U+PnDaykZrD6k1L18t2B+kYS+iYZANzF7392ecxp7sfBU09Ncpvu8nFKVF+TZ8rmbULZKzI5cAIg\n",
       "Cl6DonEgJDebX96VdAi8c6686TpyHjN9mn9MXZ9CnbukEABSWrcai0Pwv/6QCyUSxrKNWBAOzN6+\n",
       "BreJXbESwblMUcYD21eyMz5JcgJCPDL3JIeR4+eTROoK29mV0Wllg3FeL72k1ap2pnEaHrELfNEx\n",
       "AlvIDjb9WL9KAaSdaIENDUQ8z5m9Lef0e+XvW5Bk1Zm4jo/GIGNozUBB8hWj4oZ6Z1hOaEfUlnDL\n",
       "cvFd0rYL5cgl0X5VJ5gwkWTugA5qJ8vSXPMgqOEb/Mdx9aLP5+uq5Siu1PGc9yzyho/ZnhqmXho4\n",
       "PR++y4uvigRexOwkxWAw4ghfJX2d1Zy/ib7ybXXb33p0ErqGT/z217eM9OooQ8kDg1PCACfI/cgL\n",
       "Bmn4XLga5WiB60u1hMsE1eTeb/xOQv4Gld2GlDYoJXGpczauC+ZwDhlkWfjR9OI6OKZJQuwY3FmY\n",
       "W9320SjgHJeclpObP5Mj8Iknwvd3y/PZigMRhBsajsPRP5R84kP1CiBP8URbRGPBMhdKsm4peB/x\n",
       "c7tinITvHuRrZjuHGKulgqaHILYe9E6b2qInggd+bfk97w6jCB7uyAo8TKsTpBaEf2QJC36hSJu3\n",
       "Ipa9zr3KeiPIfR7/xC6H3LAqLWucXuRrC1vDC8WImSI5VoVLk3hdaPXpvW7veiflNNKcsspLMCIp\n",
       "X4eTIk2yVSDvtosWK9AnbvgSyl03XihubfZxt8TMFS+1zRP+hS6KExCUcyR4JSTDlkSH7A4wtrI1\n",
       "ugIogf6OzCWLEKDopzJ6XZ4UwT025K0lxMQkY+mbUnxzgkHxHzvJnP0tv46T+m/zARND52si+GAj\n",
       "WZ6TuvQoZa1nggmQ2XAD1Cf+NDyfVIZ77czNKplf5gUfRlWT9epZoqbTTkIib1h73ouc0Q2gH3th\n",
       "Bpawx+NOlq4H0hoyMBBbfu6uPglu0sk9GV2iMOnjQVzzgaSH4N88JK3MyuZFHf9B7le4uh0B9q0U\n",
       "qb2j902yfGM2DAu7rbSDEk8QQYLs/GfsDbAMnTOY6r7FR6U2zNl/+FGSEdNIwccuW/TM7UrdWXX4\n",
       "1ekwg5kUcXPPcdY6nPylvDq2uIiScIBsJH/+Bvv1kfJn63aOHC7ovONbHXOvVmcV+qxenEtobaEa\n",
       "f8sCE49Cd51fLBNVe3C0eslED8E3fjP7VDseN6OvFhFKZjtzhUJOKXs8NQUKR9q8QlIrbELazqAF\n",
       "+O8v9Y3OngnrGxexm1nyNn8PY0ABKZs7XluKABCy39YkNAKjsl1pEDTzzBpcHpjv1uz6g+zQBOJY\n",
       "qF3/3gAKnpiUhE+ewWTAV9vG9M4mMsi8tefh+C7MUx80B2jR3N74Pgzj1dmN7jm4O8nyMzNxHTSc\n",
       "w+KSq9zgnECE0CKRkdHnGmMsrw9Mmz78lzr5qXAAQYWvbrsKaeDddt9cnhIjeze2JI447QBJR0L4\n",
       "u/+HOk1vbFGBbRea7hMt6ktFBcgZtNAuIWFhUppRyIuHpo3IpYLym9BuPpEhhCqU4VrKHGl9DYvm\n",
       "cn/mePbQLpaNCiS+1zN1Z41hhqwzokYerBno9rCapfGEighZBCPT+WQuZmc8TuPQNI1QMvdlBlYO\n",
       "vqIOJv15vfmRWaNaKUqyb5y0DRyiBH2DdqxZ/MLINRaPp2EZjR6V4pMWD4UGIxcZr1drNDwKFV3b\n",
       "fETk246rpcs9eHAwpuYRRYyIYxjxY+VjF7azDEZFdoRZBKmrsC2W1jGkEUKdWQqeWH4ex60KWe34\n",
       "tgZIHVmGTorfOVcHlsSgVtrXKpyqN/v8kBp6t8aGZEhPqUZ820a8aKblAvGbGt4R5LebGlw7TKyM\n",
       "G0/IMJJgyVSx4t9AG9VQVvQDSe4TjIKhlMBOUoVoCxYmMRbHfwZ736Oxh5jPz4gZYIy7hay7RJA1\n",
       "O0YdvibBd1FNtZKslQdrUBohQmppqz0438VhPoqFzJ3KyBsXxUaZ9kx6HLdDz3c340tkMjTqcn/z\n",
       "CL2rjEz2Ko+td23qE9WP3YSiwldnf2Mj7glgJLKo8tSCVTZM9DNt/T6tM7G4HlNu+85i2sA/AK4f\n",
       "xYAvXdQs8t9AN8KMueSLaMTlRB9OGwRCG38HboHoLXhs8e2k0zxaCgLe/2NGW1MqA4EY6Xq9+7zC\n",
       "XXiXoGgnLCarM+LHpPd2NKaAACU15rFDHEHjQhPWtTF/hWS/ZOXH51qBtzhD6Bk78hAqj+Go+trd\n",
       "wgysamwO1VqdvVUwZOMvWbxwN9fDafRvK2Xu4ZAU2RHnobCByTY46DA28TE7WF4CK50iIKUwUWoh\n",
       "lU2DJYlaYAAJKQAABTFBmiNsQR/+tSvFysgAiD6LCceqkTSVF4rdm7WudUIeW3sMdibxWZ8PGIE1\n",
       "NopqEhepHKxJ2iO1gIbvtj9fyb8qI3M0flBHCSR1dd2nHitgvGqS8h3ecHK/L6Yg7UFOkiFIP79Y\n",
       "fa5CandnNPCRnX+ZLyjTo+pramKoMkv5HzMEBoRc3t+FK7BOlwrCJ2C82+C5GabJUS0CMozpb5V3\n",
       "6Z7V61gKJPM1NMS6Gc6qUdvRt68dOF/36aSJgYLY4oTpQt/jQSauOQIy0fRuZBGebUnWDrsfLKNt\n",
       "Ot1WB+5mO7d9wtJX9oos7WlKLvMmcUc4wvN7dbNqZEXr8zOfech1Upk8BRy0oDNYgUnllfw6kFoW\n",
       "YV3OAfjYwnifszl06KiqclDzjZI5n7UabYhV43u2tWnh1BECawz//KiP386K2F6AjBLT3P5ZjwGD\n",
       "9LrAuXIU45v7jX5loa4bdT+AfJR90XeDLZBZ5CRPOPzhB2IHa6wkO8280vAtunIDeM7trcOGE9cD\n",
       "QNM1hi7qXR9VTrXbncnCmQYizlP6xKLp8Vu1A1VMUl0IktWqdnWKeoGGY9yW8MGg0f06Ie77tjIS\n",
       "Cs9uHGqML1jkzomlSERjuol1RUYXc4dG1YIAB7xZCxNcNdQcqnquHAz+Mngxhpoy8a0GfrZe/V/I\n",
       "y9kbFHOKbt4kGdj21Pu1gjL15Tg0xjts1GhPy3PRcLtwGGMoYmxd2+1ByjVe7H1ap++Iuuy70/Cs\n",
       "zHsQ6WSF69PFdOBjnCNmb+ZDdT3dgtbKDMdrumC6W4gihNsuNxMfl1Rw4mWbzPShR/rYM3EcOOBR\n",
       "aInMxLc+bBCFRK7dz/TMOZER1WLlTC6PkNznpuab2BZO3HwXGehdj8rNnymnuo/yJCLwsLcLrBnb\n",
       "i+5PF4DnqJO3+EjnjQKqcwZi1qCvtwlA4cWQe+bJn6Os0X/3J5wvWtqVxw53iMSn9HXEHj2l+9tm\n",
       "s57gFaBW9Xv8LlVCElA7GGcu2PVXDJjdkGc87SKXJDb7Fk4r+Twyl4EajNbLcSX6JGAtNf7IbLRb\n",
       "mAJqvuFANI0JBULMMyz7E/7K7/2h0iT7DN5S/kvf6RKHGMP9DrwxZez63KcbdnNDCT2TVhJhcyFm\n",
       "ycUabRJFXslNdsj3zU763P2ZmlcYLVsSAGnCpjm0K56y7raoKoWw0+XAEM4tpcuvuihFNi/cDC31\n",
       "XLfQRP02OGf9HHvSkMpPAq/xkzD2d25yynlMAeyDL9wK4kxo5Hs8ienOpobKkKS1E+lFIc186cyB\n",
       "ibcTTHDB8SEGmShmOf5nX/gQeVa2lzU1xzHv2cRJtrwsp/fHmiXOcD3QvVI6/LfjqbSZnR60MKzG\n",
       "wP/1/e+72IBrgRug0ofwyYZL0mLm5lHweYm5UMuMqd62rJ3rlCjLzIJuVHVLdWdIDIbDm/2EzrM0\n",
       "xs55y2VDBmrZVF45LrEu29JRN6EohCYXTbdk+ih35seivmgypjMwHwS58VxAOwZUt6seu5WhIFRA\n",
       "MTQP/1J4b4gskYds79XlGnirm8s6wWlX6+sizA+Zkz27wOE0O5udN2UgEDjHktz0g83ttm5kmtr2\n",
       "97WuzUK89/gLMd6RDwkdx2/UGDQ9FgfeO2jYWqk/+r2GEwTDA4envvdzsceUGsZPYLECyjHDQ8H7\n",
       "oHgSZjBsaBb8hCv44uSEci9WDzQ4y48/+Z6NyZSAyh48BfSoLF2XWz5stDKg+GXL10ZBpBNwTehP\n",
       "zG3BFzS/N+CGFmcAyiAjREnaTPQ1JBg/1LhETjz2DcAAAAGmQZ5BeIb/BzAXkAAiDy7Wab64/k/h\n",
       "tMYvrEpND7nVF25lbMAvxUf8lPoPq7vyDD5WvVjXCnYJyJXrOHymckmZXIp/B70KNKo1UhF9Fzdh\n",
       "Rt14p3R5DnW26R+6MrX3VR9KzOOSR+GQNeM40RRxOyObidSD/ebr90vd9Ai0A0ZK2Z5yhesrL/D/\n",
       "oiuHTrcfR6YWoMP9iF/qYT2axpo9Jl+wK7grdxrnWO9owgHUQKoPONnUFlhk5ocFIgvfB2RtjO/8\n",
       "NrwDYWls8pbNtJbvldSJkNpLUFhfYZgigZXv5W0yaxYoqbp3+2r4FC+VL72kfSaY2YzMxle61aMB\n",
       "Yu5GNlmnq5MYMgL/wVFb4OEYau6Dnt2ZirQC5sPDVMUoHTOWYM/Q340/gBXS+cxI/fDzd3yLajxO\n",
       "10oukp1XBnnthJEISeLVlcpnD9NQitgC2hp/hjOjatkpyKN540GxpwR/mOMfT+oTvtNhKQBtu9Hb\n",
       "InJt08L0mTUFnelH8nXtHWVhvZrNdS9fbCinruj/kFfB7V8IKzHZaX45pYUtVY79IxDqGiiwSj88\n",
       "B80AAAEQAZ5iakN/B0NW8AIU95VCgXmhVvcEOqL4xukQTJ26sqgpGH1NUzajMSb3BNiHqMGh2KD0\n",
       "HL66nXf7ra2JW14zLCfGOvnT10ofFg4uMGbISeZ5XjEOroni6jogjB4s+MI9blI1rg8bZ82QpTwu\n",
       "f/nzr/Oe2a+U0LPb4LmEktkxvBT7B1uUFotAhgIXUifqNihyABLNa/TnZ3xsQUk68GFtzoKDDoc3\n",
       "FS1ZVHbkAXDpQl8VdrsVHFLz3mn6w3cLf4nFxiWQdpb75I9hype6fqPFaDbOPcKMxJAPemhj02si\n",
       "BWfUKx9JNbPqbz1DImQyR7I2K0UNuLpp0/gBbc/dw1R3LCaH5Kf5E1jjdcjC9tK/h8wAAAQwQZpn\n",
       "SahBaJlMCCP//rUrxmVkADRvk6b8p67eH5cczW5DsgeZdJvutvIG0s/9Rsvp+pwp4XxRQrK9pKc1\n",
       "E5b8gkxfXSGYLF+KV3BqSs38+R5HyD9QGjTrGbQdfioyLdIDkMwhmMRKHrHC9rG8+7llN5iNP8JX\n",
       "4AAAAwCUm1/szctkYF+Y73UlTIYPZ6AeT3SXOOJ4e8nGb9GN0n77S86S0tnpZ273eEfuZfJWB9Hd\n",
       "Rsyhou5VP29khFBP6j9QWoDIkAiJ8YQ8vh75VgpLJafkb/XmGYQsNMYfEGF4MeeE3YuWScdxglS1\n",
       "IvOj+6X3m4+UrliwMFXPAbbkL9kmQKsJ8t7Sv3t9H4RfVqGoDK5/A4zIsJsFrz3YsLhm9z6Rgrut\n",
       "e0ZvuWI3yuSXW4sJLUfD5fdNpc6XgLJzvfUBBOsz9tsQwas9INVMvcw77aNSjnivewtg8WgfHl7F\n",
       "iF19AZQ58BCmFFPFQ+WnY8zMWaDOb7b+JtESkMI8cmwBZv6LhYOP/7sZ/lNDgMasf8t9x7bwt8hP\n",
       "CXDNy84qpbKTmoGilLkm8eUa1frM7lBdupuC/zqNWL07fwUyXz5K8MnJOZwtbuz47XZCj/Y61nzi\n",
       "DSDNp10jne3MTccyex4GZE3bh1cVPD41fmu9gc8f+cTlTbp73FmAyKFhFmnV6yX+FFUt3AssoU1W\n",
       "Zxs0lA8uct8Uq3X4W+9SPtHxBROOJFNse3IsdXsFFWxXYOEbGTLkm2yi67ySv7JvwpNv0LrG1jVU\n",
       "9kbhN9P/uwx+BxJTzNnAwi4W4G/PVuzYdqS8B6vdV9l/mRXrL0H40rUBWO32xu79ighz42iMk3Cv\n",
       "k4WWti1yyUEg1i+sZCz7WfOeoRKlhuywGahshR3XQ5Cui0te5KIc+XygrU6O3R71idOL+MC+ddhS\n",
       "mUJXJV+NoSp8I+QOauPyBZZjDPDgQrelCYux+U6TQ8TKKFEeg+KOaRNlaJBLi+SIpclXxqGtt8tE\n",
       "aHR0hISuRlpm/TNDeeN9ldfYzLG7jQWjg31Zg+B87vEVKznXpa/YfrIlTD0MwE2wKTSm84yTcpM9\n",
       "p8IP1SylyIrOofq7NYsoCD5Sap+qV0dIPmTSAs3kJ/mvtyJWB/zJI5IKubHilxBOsZRidWnlU3zB\n",
       "or2Y1MFTptukly32Q8j4OUqGQwdjnqejctWmFkuDn/id81/gQXM9NNiQSUqIM5SqXGRCh8QhGrKs\n",
       "QJttg0Jcz9x3rKBbL0RSe8Wd86by3Y7gM2U/SodvOaCpq/5Cvue+xxPI9OeOH25ygRKUudjt2BS8\n",
       "KfthvR3RxkiOw6K6y+3gq3c0RgqckaMpPK1WorAfFYaWDVHYXuNUFDqFKPf1JSQp7JISZykb/r5Q\n",
       "oCpOeSS3EFrfEWzcmJDyFKpsQcwtlgo+j87Kz2KyGcYBOyx7tfQjyWqlMwAAAVNBnoVFESw7/wW3\n",
       "egAbUpr1fzGUM6oyp0dz4F73bNLBdHEpW3x6CW9jh/KPopXNPhQgTkfmKl35s9pExcHtmqpEqA3V\n",
       "aNW3oMJgN9v8sh/K2zrDN/aBMi7RHIxo3v+no3iY8trXDRMwJEFj+p/GyLnrb5CMSmBNLribbgHw\n",
       "43agGwoMOi4OzwJN2U27Q8iLCxCvljO6YJWpIdfUP+Tyvpp5Dp4PDNZSmxIQOGsKmR4VrqltucPg\n",
       "kx/oKxivaaZE39for2e8hqGRBzAkeAXqX3V87l8lhudfycES34UfdhAb/V46/qYcatkT9Kt5TMgv\n",
       "tRZ/Y7JNnif6a0dAcHOUfKRPJOmrMD0AToudhqvErJcrxzP0XUNN9tyeNkd4/W0BymtbETFFo9fA\n",
       "i36VZWNCi1sPm3CM6PaO9AJXs6FvQItvfvzK18eCB2Iaw0Ui0HyFGgn8plEAAAEdAZ6kdEN/B3HR\n",
       "ACFPeXothHmFEqT2ctyxKEjx5FJD1qKjLteCPsPkws7tTY33r4/PqASo1sbJT5x5GwC6iFvnA9cg\n",
       "7irrCfev6WjmqoTvckdaqJTlEt6QpvR9km7HpddH7mN4ZIvI3kUdOWvcRbexv5KS5N5P4oDSDCOH\n",
       "l53L4htDM1TdVTSQ8Hc661JGUnN/3lFyUK+wohjOlDnkZ/As2u774zxBZL84eAWpGs0SDgCIe3Z2\n",
       "FwDS3gaZf65CcUA0X9X3rBo4fsU+n5sXM/bkKneHokrOJnjlhs7J4ND58a1xtNWYlN0ORGU+uwlk\n",
       "CxEzfGGCfvvkPzj0M0yOmnP5JqN+h3+1R6+O1eEfyP/XzvEpgm0JcyX980kwp12VAAAA6AGepmpD\n",
       "fwdLPCIAOcuQx76d9QWXVSLaxuKRMRtK/1HBTgd/0Pz83RieigCiiQyHUQ3uT7R2kUF1wjoVElIo\n",
       "7OpJUIFWGoeBnVzT1liO6mktTOI6L+7I1RYKl2i9N2Yf1srb7+ug1SHRZ6CwIKWJRhUj9eT9ivcr\n",
       "+jEDzSfWEZ/ZPOCP4ZHturYnExUyrkKiv8Q4VZ6sd6sb9k/1Ug4NzNUu2UY6GXsQYuQQTcmoLUwZ\n",
       "n/Uuks50GUxrpRQqEq43ksqPWyzF80sEewAUwyK1eY4mk3XqrO3pbVIqut8J04kvf9IFrsTe0EkA\n",
       "AANRQZqrSahBbJlMCCH//qpX10JEH3bFHYAW2FxdgK+JhJ0gn9ekPF25PpUjI2LGKHN7W4gLtqiH\n",
       "OD8tG6YEgC6d7MlqgHUgNdg+4YyTDX1my3Hifo+LJlXY8E312TUm3Qduy5qWLhg0UBdo01sALIud\n",
       "Ngyyn8GBNO+WRpp917MwlQXW/y/0DFalU7Vo1Y4CY3bjauU5g7DBG8GMuc/q9pgnTo4q2oKUzejq\n",
       "zh3FTdoUqA7mQ91YV4Qk7wL/jDAkZj1ejO3AImQ8c34xzLTzPVisjIT+37Iep2n7lW25shin9dNH\n",
       "6roG5ZWif2HoG2FF4Y5pfa+J4OdyG7sRXvcBMRFh+N2Tgn9ZMkI7qz2W6mx5FDwVVWgk7TzeI15E\n",
       "KSOi6uVHk6UumQC/+GX9ES4p9Tj8k+fxlK0yQ3OVtgXohgNN8e5wfjxAl4DB+zs05Y8waILS+EQs\n",
       "NIFEHQl3A1ruKdGACWDukvR+zE494UF2pRyukpNizI+9x/NwrtCDjG/8ZtGb6VepKFuBtlTW+zzP\n",
       "ycP/74/+DkgosOdaCljUFZFFZp3Yphgb+1gh9odlXdjXIc4sL/4wGbW7c0FVS2jp/NgC4ZbCJeWT\n",
       "+yA0zWNOgXfAWDaQSmI+Kmb0EoGI4++VSj3wM0esRLQpR2iUzuwzKQgCV28x/npla+lQk9lK2NUy\n",
       "LjSudhE6CQ7L/wtZL2D9yM/CtNbHmjv+Hg6c/YKm5m+InR5LgYXRyDNrNgHpM7N2m7Y5OTpf/WAE\n",
       "XldR3Nbb5JQlAMUsVkNFeSJ01El9enkn91BSZMQuL6V/cOWhGVCrkli85wBtolSuutKxGu03pCrr\n",
       "MARDlamQToZ6zqZiZm3wADMgOcRDh71jaoGDXnJ0z44rfQ6Pf9SbzJTynY3rrabe2f/rWsc9JRvE\n",
       "kB7BGJakQtVERl2ufm3iaKctrSSLowiLoKDxVkgjjMkf+XeZysO4FfDR/xEds4FT4zrEcj3Y11w+\n",
       "AsmfM7D2y4sMZYeIz4iSgf718zY1qK+XMNFFVjrfkaeG9JPUnnHUQ/SiemTvslKXskeK3IRGpWqw\n",
       "yuV6Ptk9VaFw1D+AmaF4yfYEisH6fvdTYJ/DWf1wjNZ038qxTYacorv5GNjC/73oDiSEyt+4AAAB\n",
       "S0GeyUUVLDv/BYs6AZABEHmp9yi4NNqzhohXUx1LGH3Vz1fpak2twhyDkl3/J1DmigJYbdRLAYOb\n",
       "qP2skP1r2FmFLB8OZUaA0Fc83n1x4F+AuJvPqzPFR4Y0lBm9tkaOk9R/xfFZoipqr6T6mx10E4A2\n",
       "olVMKtxMKYafGIn9rjFr3rEBqtRaJb1bzz4K2qj9qVjpfrJZTZ/JwFa90rJz7jwKoU1G0fMDLMyw\n",
       "oTyrqHfaXUCpZknrm79hxFt5W7TOoWRxji/sPCMv/m8ODflpguDKBB4WHHvt2oevUx/nCBKt/QW6\n",
       "54BdIlBqy5k4HkxnnmW6CTCCGvl9hXvr1FFbfJPoTg7Sm8NExX6Pe1k1SuOvxoXUdbpuUJD/41/m\n",
       "txlTUuIbWhXGQ7wNI2r3QGgoWO+rTyOPpik4+Q5cx6lkYdFLceeB9DKfIYLxFbAAAACtAZ7odEN/\n",
       "B0BacQAXsUWa+BCkzFiUVY3clD/csvha0nMuiBz2oo0+OuzRRl2zcch4oyfZLOzkEdHGF4a2n1/+\n",
       "8RiZU//jFZ12zaO/A7kaq+zDYugRf05b4NvSTmNzb08J++Uw61jkC7aAUVse4OnG69mbW5ArkAO2\n",
       "ZpLCoLJScLOhceUhvrieKZ6yOjMQ05YyfiBvL5DbmIxJ7lRpoHgTmV9rtKhKH0JDKLdLKSEAAAC2\n",
       "AZ7qakN/BqeoMfNuNKCQAIbQNs9JkB/RDhmTvhUQuIXt3sy9P/yizF3eERyoTQyJYnB+xYxsXfdb\n",
       "5fYY9GNCn3cv3tvJu8/qT13HP8QigZmjhsuyn7llufYpIfQBf4VQTSpfBZhyCtHLA5DiZzpf+b4c\n",
       "p7fvVgcrrfz/t1af+vFPW5ENS+dDNAxHBf2KxGK+kdpZ/SPQyZPAaY0qjBtua+8HmA7V2Ddxhcyz\n",
       "N44du2aEOgbJvOgAAALFQZrvSahBbJlMCCH//qpXfJ9t/HkWYAB/SAzqZG8ZauSJf/5+AU5OIt+h\n",
       "rLwLBW6heJhKcNG0w/PNucjN+9h6FQqOAGSj84qsDjew2LX8p0jqsyUxzv/y+KlzWycnV/iLy0az\n",
       "NypR+aWZ3KH6IhIDQD8hpUrk1B+yyPRakNBAeLa/Zzr10h3uetzzP2J1KexyVye7sSRNu+MaYSOq\n",
       "LhP2SrE/r59RH7tPRmdA40niiQEkh79rGUbDCLkOa5N2Jh/bSH1fv4v9y+wBsCMm+5esolb5XIlE\n",
       "ik0oWGOdU07T0+lxJMsJi0sHK4/9zSzqQEzsyA4b1vXOyAnct2h2uSRg7zt/DU1A28/i16kY/g93\n",
       "GIFq1QSKLa/i/SbaQEVuQB6bnZFLm3qWujyl7+EWF8wlX2Mxg1Xs0u0SWLvxZ4NUkuf1lgPwrpIp\n",
       "l9Cziz8rg+g7uDhZfKckYwwVl97o0RCVTC0xQfEJpGPIZvCPxuPlvQyht4tyxVrqYEzra8mP2K7z\n",
       "zhybsVnsSOUA4HLAAA6A+GOirqEetlTqWgvb29LWhuVvTVzaGuSzw8mfRX3H5DjllG3heN4VU6Y2\n",
       "SyYX/qumEmXeGIt3cEi+RPXqjwrmttXxoIPXcTCMEjkiv8xTVfFjIrtAJcX/wrbooU59IOB8DZx8\n",
       "Os8j65KFLiO2x8E7CDe1mPb1JmZKvjyLISCAnvnhLHl4vwIW6VrgR4n2HbgERrpIITr5inHbFOof\n",
       "H8vw7C5kQVQQCrgTmDwVmshVeUYksh4CpH4XJIkxYouENhoRCUFN+ULzHTqyw2oa10vuUNMuoHWf\n",
       "nEDmyhqDAKGYsJmNQq3hcyRw9Tb0yyQ9UMrXQxv2TIFT1mKOVf3FaMrfqjJvlNCujLfcCMtT4y9G\n",
       "kWWhMowDZHBC10v8k+sfL7hxJgQqgy4rm6Bj/PcJGCQqY8my8DLBUAAAAO9Bnw1FFSw7/wUd1Oox\n",
       "yOIAWNTwoIaxsNCMTLiw1BT6dsKfH0eU3G6C1U9txzs9Hd2Y4/s9FdngvMVE1R+835hhVTslEyah\n",
       "K3jHGGNIA4bzDKzmeoaQEPG04B27xrNk6sngwfY8eD/GHrlfJcJ38kCjKF7E+QhLONfRyGmp8icf\n",
       "V+0kweHp2jamtxyZ54bFwDXRPDAFhOcDVU08zU3OyuodX7PNRDzSs99/VAQw75m7M+XidAgb7HXs\n",
       "xUFZ2TdfUVLCV5raZc4Pkh0CKyR75EpmCUArWpfaO5NIZ1nrOoDBg8JGi+D1Q2XNZU1eEV86LwAA\n",
       "AKABnyx0Q38GrN143ah4AQpxuCXV+Qmqct4N/F8LzUh+ZNhOgSdPJszEYLDHzLO1RoxOZqbK6OR6\n",
       "6lIRW87NyBXp8eKSa5TaDjz2Xa8Cvi++MEA4p3aT4s2v1dD+x7XbsXDc0TdeUBCh1WXpdEe2b3B5\n",
       "ewVuop/HvgkHuJH4gBV2GFqsp6WB0ttU8GQtHS0KRlnHJpRESop91qSiYBAMW545AAAArAGfLmpD\n",
       "fwctrSYy24gA2T7MPrIguuThtqdOBcQsrUqmZtB4S/XQHOCDr6SQ1eas8W2q/DbpNz4TzwdB5AKf\n",
       "ztL0Zfwr31Y/xwgJoS61llcyuGkZP9hB5G24QfeA75JpusUJoBXJdQY/Ex//QCpXT2b8v/pjms7C\n",
       "HO18o0fHxbkXtprq5zBQ0XzaY8tpzzMHYimiYMccMJU1VQVPqq6gQggOnzRkxG9MgPCST3UAAAF3\n",
       "QZszSahBbJlMCG///qeOh7/WgAEP7OoAUwFwNyxhYN/wR9vehxgplg7PMeRZLDJMbeIZPAcGOkb4\n",
       "BY2Ka2Tutl4WW+oalonSZ1rMVI56BRDKkpgCReS9v+AlshWqm6dY6qUuok9Dk6IdDie8lGlc699W\n",
       "UnyKeVHB//+AiSz8LqBHudRJ2FKtswhHy/4wmwp315ugmbWY+iarppgj/Im7srvEcwz2WSQ40qcf\n",
       "qu7MNB+I1mTtwvAivHvaBPDHTWjpUAt/hfF+CRjyOhMOX4pX6l+1euWljG1+pelrxiUG55rwHKq2\n",
       "qjYN67vnj1N5hfPQTj9aHNpAvojM1zHffC6ngrgMs7TL6TtfRfS8YObp/deXICclNqnZBdRDL9Cu\n",
       "po8Hh3QGm/GB1GLU9534Tq10I4HN3iLaeTiev7mfA21ct0TypF+AwPMZ9WrsrEtqAy5lcqQAjyoc\n",
       "6PAXf3kwnOSfxRCjJ8eu805S1hloZ7NliWFtHIysRuxsAAABC0GfUUUVLDv/BR2rfC6egAX0z3Qt\n",
       "pAEdnaZP/FeALM+YKeeDww6vvXO95nJa8BVmgHuVdFbgbJLITCGxra/Z5UVKGmC53ACb7E44bx9r\n",
       "bIRgMdQCT8MAOHfCDuesIUDmAfb/8aOl1jY9u7JutUBQ3O8Eg/o06/qxQoyHsiWU6gdwyL6Fefs+\n",
       "eT7dSoPRgS3jk3zWaG+RdpiPZNHyNTMv4f8sTSW57j+7J/2zM1epy3n0dtEVYuxQCJqC8ktSo15v\n",
       "tacZbpvBPo82TFVlT2aFy/nY1LghmImnxZGLDPNpaPOTQrTQRqOmkrvuQ6AabfsyiJCajLgqS1Uy\n",
       "KRmHHX4a0C3QqCI4tp5gVMgHpAAAAKwBn3B0Q38HLaCpTUQAIcRHZRfbseWtHX0KUZkRnQCz20i8\n",
       "9HLA7CduFJXOATzeWqT+fyW96kzZJmGv6DvloKqGyO9ZfKCMlDhhXSNMh/zX59ZEQv7CujYO4gyo\n",
       "oZGT+cSmpOdQeV6JLcOSBpG2xI2Tk7jO0b5pMT5gLWSshIPJBDu/iX86qE/b396O1aMrvUNNkT+/\n",
       "t4Bl3V1UrSAMNxJxWv8xl44ZOAUFU753AAAAvwGfcmpDfwas3/qNZrcQAbKCi13qQc+OhlT48dP+\n",
       "tTX6oNTV+G94B3viD5I64RkI9/tKwIAKsEJVugcsDLUaSCtuYF4yZEk5O5mk3lxZplu0HFX/M2NY\n",
       "pYk3/zSHqtGjFzG4cK6ud7OQ2u+gQPSxtDjfIu/61u6EbivFvzZyV4fkpPWKJnjGnpPmTJBC2sBO\n",
       "0/ieeimHeBZbAq6vbMB7by6c2hPmZBM3JoNx8mQzBzocQV3yqtp/TxU0v1Q4yIg4AAAEFm1vb3YA\n",
       "AABsbXZoZAAAAAAAAAAAAAAAAAAAA+gAAAfQAAEAAAEAAAAAAAAAAAAAAAABAAAAAAAAAAAAAAAA\n",
       "AAAAAQAAAAAAAAAAAAAAAAAAQAAAAAAAAAAAAAAAAAAAAAAAAAAAAAAAAAAAAAAAAAIAAANAdHJh\n",
       "awAAAFx0a2hkAAAAAwAAAAAAAAAAAAAAAQAAAAAAAAfQAAAAAAAAAAAAAAAAAAAAAAABAAAAAAAA\n",
       "AAAAAAAAAAAAAQAAAAAAAAAAAAAAAAAAQAAAAAGwAAABIAAAAAAAJGVkdHMAAAAcZWxzdAAAAAAA\n",
       "AAABAAAH0AAACAAAAQAAAAACuG1kaWEAAAAgbWRoZAAAAAAAAAAAAAAAAAAAKAAAAFAAVcQAAAAA\n",
       "AC1oZGxyAAAAAAAAAAB2aWRlAAAAAAAAAAAAAAAAVmlkZW9IYW5kbGVyAAAAAmNtaW5mAAAAFHZt\n",
       "aGQAAAABAAAAAAAAAAAAAAAkZGluZgAAABxkcmVmAAAAAAAAAAEAAAAMdXJsIAAAAAEAAAIjc3Ri\n",
       "bAAAALNzdHNkAAAAAAAAAAEAAACjYXZjMQAAAAAAAAABAAAAAAAAAAAAAAAAAAAAAAGwASAASAAA\n",
       "AEgAAAAAAAAAAQAAAAAAAAAAAAAAAAAAAAAAAAAAAAAAAAAAAAAAAAAAABj//wAAADFhdmNDAWQA\n",
       "Ff/hABhnZAAVrNlBsJaEAAADAAQAAAMAUDxYtlgBAAZo6+PLIsAAAAAcdXVpZGtoQPJfJE/Fujml\n",
       "G88DI/MAAAAAAAAAGHN0dHMAAAAAAAAAAQAAABQAAAQAAAAAFHN0c3MAAAAAAAAAAQAAAAEAAACo\n",
       "Y3R0cwAAAAAAAAATAAAAAQAACAAAAAABAAAQAAAAAAIAAAQAAAAAAQAAFAAAAAABAAAIAAAAAAEA\n",
       "AAAAAAAAAQAABAAAAAABAAAUAAAAAAEAAAgAAAAAAQAAAAAAAAABAAAEAAAAAAEAABQAAAAAAQAA\n",
       "CAAAAAABAAAAAAAAAAEAAAQAAAAAAQAAFAAAAAABAAAIAAAAAAEAAAAAAAAAAQAABAAAAAAcc3Rz\n",
       "YwAAAAAAAAABAAAAAQAAABQAAAABAAAAZHN0c3oAAAAAAAAAAAAAABQAABUFAAAFNQAAAaoAAAEU\n",
       "AAAENAAAAVcAAAEhAAAA7AAAA1UAAAFPAAAAsQAAALoAAALJAAAA8wAAAKQAAACwAAABewAAAQ8A\n",
       "AACwAAAAwwAAABRzdGNvAAAAAAAAAAEAAAAsAAAAYnVkdGEAAABabWV0YQAAAAAAAAAhaGRscgAA\n",
       "AAAAAAAAbWRpcmFwcGwAAAAAAAAAAAAAAAAtaWxzdAAAACWpdG9vAAAAHWRhdGEAAAABAAAAAExh\n",
       "dmY1OC4xMi4xMDA=\n",
       "\">\n",
       "  Your browser does not support the video tag.\n",
       "</video>"
      ],
      "text/plain": [
       "<IPython.core.display.HTML object>"
      ]
     },
     "execution_count": 44,
     "metadata": {},
     "output_type": "execute_result"
    }
   ],
   "source": [
    "#Distplay video\n",
    "HTML(anim.to_html5_video())"
   ]
  },
  {
   "cell_type": "code",
   "execution_count": null,
   "metadata": {},
   "outputs": [],
   "source": []
  },
  {
   "cell_type": "code",
   "execution_count": null,
   "metadata": {},
   "outputs": [],
   "source": []
  }
 ],
 "metadata": {
  "kernelspec": {
   "display_name": "Python 3",
   "language": "python",
   "name": "python3"
  },
  "language_info": {
   "codemirror_mode": {
    "name": "ipython",
    "version": 3
   },
   "file_extension": ".py",
   "mimetype": "text/x-python",
   "name": "python",
   "nbconvert_exporter": "python",
   "pygments_lexer": "ipython3",
   "version": "3.6.5"
  }
 },
 "nbformat": 4,
 "nbformat_minor": 2
}
