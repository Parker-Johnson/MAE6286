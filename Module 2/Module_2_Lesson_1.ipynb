{
 "cells": [
  {
   "cell_type": "markdown",
   "metadata": {},
   "source": [
    "This is the first lesson in 1D linear convection equation analysis looking at PDE's"
   ]
  },
  {
   "cell_type": "code",
   "execution_count": 1,
   "metadata": {},
   "outputs": [],
   "source": [
    "import numpy as ny\n",
    "from matplotlib import pyplot as py\n",
    "%matplotlib inline\n",
    "\n",
    "py.rcParams['font.family'] = 'serif'\n",
    "py.rcParams['font.size'] = 20"
   ]
  },
  {
   "cell_type": "markdown",
   "metadata": {},
   "source": [
    "now we have to define parameters and grid points \n",
    "to solve our system of equations"
   ]
  },
  {
   "cell_type": "code",
   "execution_count": 28,
   "metadata": {},
   "outputs": [],
   "source": [
    "#parameters\n",
    "\n",
    "nx = 100 # number of spatial points\n",
    "L = 2.0 # length of 1D domain\n",
    "dx = L / (nx -1) # space between each spacial point\n",
    "nt = 25 # number of time steps\n",
    "dt = 0.02 #time-step size\n",
    "c = 1.0 #convection wave speed\n",
    "\n",
    "#define grid point coordinates\n",
    "x = ny.linspace(0.0, L, num=nx)"
   ]
  },
  {
   "cell_type": "markdown",
   "metadata": {},
   "source": [
    "now we need to set initial conditions with 1 as a constant value, but at x = 0.5 the value changes to 2, and then goes back to 1 at x = 1"
   ]
  },
  {
   "cell_type": "code",
   "execution_count": 29,
   "metadata": {},
   "outputs": [
    {
     "name": "stdout",
     "output_type": "stream",
     "text": [
      "(array([25, 26, 27, 28, 29, 30, 31, 32, 33, 34, 35, 36, 37, 38, 39, 40, 41,\n",
      "       42, 43, 44, 45, 46, 47, 48, 49]),)\n"
     ]
    }
   ],
   "source": [
    "u0 = ny.ones(nx)\n",
    "\n",
    "test = ny.where(ny.logical_and(x >= 0.5, x <= 1.0))\n",
    "print(test)"
   ]
  },
  {
   "cell_type": "markdown",
   "metadata": {},
   "source": [
    "now with this array, we can now update out initial conditions to generate a square shaped wave"
   ]
  },
  {
   "cell_type": "code",
   "execution_count": 30,
   "metadata": {},
   "outputs": [
    {
     "name": "stdout",
     "output_type": "stream",
     "text": [
      "[1. 1. 1. 1. 1. 1. 1. 1. 1. 1. 1. 1. 1. 1. 1. 1. 1. 1. 1. 1. 1. 1. 1. 1.\n",
      " 1. 2. 2. 2. 2. 2. 2. 2. 2. 2. 2. 2. 2. 2. 2. 2. 2. 2. 2. 2. 2. 2. 2. 2.\n",
      " 2. 2. 1. 1. 1. 1. 1. 1. 1. 1. 1. 1. 1. 1. 1. 1. 1. 1. 1. 1. 1. 1. 1. 1.\n",
      " 1. 1. 1. 1. 1. 1. 1. 1. 1. 1. 1. 1. 1. 1. 1. 1. 1. 1. 1. 1. 1. 1. 1. 1.\n",
      " 1. 1. 1. 1.]\n"
     ]
    }
   ],
   "source": [
    "u0[test] = 2.0\n",
    "print(u0)"
   ]
  },
  {
   "cell_type": "markdown",
   "metadata": {},
   "source": [
    "now we plot the initial conditions we've built"
   ]
  },
  {
   "cell_type": "code",
   "execution_count": 31,
   "metadata": {},
   "outputs": [
    {
     "data": {
      "image/png": "[encoded data removed]",
      "text/plain": [
       "<Figure size 288x288 with 1 Axes>"
      ]
     },
     "metadata": {},
     "output_type": "display_data"
    }
   ],
   "source": [
    "py.figure(figsize=(4.0, 4.0))\n",
    "py.title('Initial Conditions')\n",
    "py.xlabel('x')\n",
    "py.ylabel('u')\n",
    "py.grid()\n",
    "py.plot(x, u0)\n",
    "py.xlim(0.0, L)\n",
    "py.ylim(0.0, 2.5);"
   ]
  },
  {
   "cell_type": "code",
   "execution_count": 32,
   "metadata": {},
   "outputs": [
    {
     "name": "stdout",
     "output_type": "stream",
     "text": [
      "[1. 1. 1. 1. 1. 1. 1. 1. 1. 1. 1. 1. 1. 1. 1. 1. 1. 1. 1. 1. 1. 1. 1. 1.\n",
      " 1. 2. 2. 2. 2. 2. 2. 2. 2. 2. 2. 2. 2. 2. 2. 2. 2. 2. 2. 2. 2. 2. 2. 2.\n",
      " 2. 2. 1. 1. 1. 1. 1. 1. 1. 1. 1. 1. 1. 1. 1. 1. 1. 1. 1. 1. 1. 1. 1. 1.\n",
      " 1. 1. 1. 1. 1. 1. 1. 1. 1. 1. 1. 1. 1. 1. 1. 1. 1. 1. 1. 1. 1. 1. 1. 1.\n",
      " 1. 1. 1. 1.]\n",
      "[1.         1.         1.         1.         1.         1.\n",
      " 1.         1.         1.         1.         1.         1.\n",
      " 1.         1.         1.         1.         1.         1.\n",
      " 1.         1.         1.         1.         1.         1.\n",
      " 1.         1.         1.         1.         1.         1.\n",
      " 1.         1.         1.         1.         1.         1.\n",
      " 1.         1.         1.         1.         1.         1.\n",
      " 1.         1.00000012 1.00000363 1.00009054 1.00172943 1.02385443\n",
      " 1.21432186 2.         2.         2.         2.         2.\n",
      " 2.         2.         2.         2.         2.         2.\n",
      " 2.         2.         2.         2.         2.         2.\n",
      " 2.         2.         1.99999988 1.99999637 1.99990946 1.99827057\n",
      " 1.97614557 1.78567814 1.         1.         1.         1.\n",
      " 1.         1.         1.         1.         1.         1.\n",
      " 1.         1.         1.         1.         1.         1.\n",
      " 1.         1.         1.         1.         1.         1.\n",
      " 1.         1.         1.         1.        ]\n"
     ]
    }
   ],
   "source": [
    "u = u0.copy()\n",
    "for n in range(1, nt):\n",
    "    un = u.copy()\n",
    "    for i in range(1, nx):\n",
    "        u[i] = un[i] - c * dt / dx * (un[i] - un[i- 1])\n",
    "        \n",
    "print(u0)\n",
    "print(u)"
   ]
  },
  {
   "cell_type": "markdown",
   "metadata": {},
   "source": [
    "now we plot our solution after a certain nt time steps along with the initial condition"
   ]
  },
  {
   "cell_type": "code",
   "execution_count": 33,
   "metadata": {},
   "outputs": [
    {
     "data": {
      "image/png": "[encoded data removed]",
      "text/plain": [
       "<Figure size 288x288 with 1 Axes>"
      ]
     },
     "metadata": {},
     "output_type": "display_data"
    }
   ],
   "source": [
    "py.figure(figsize=(4.0, 4.0))\n",
    "py.xlabel('x')\n",
    "py.ylabel('u')\n",
    "py.grid()\n",
    "py.plot(x, u0, label='Initial')\n",
    "py.plot(x, un, label= 'nt = {}'.format(nt), color= 'C1')\n",
    "py.legend()\n",
    "py.xlim(0.0,L)\n",
    "py.ylim(0.0, 2.5);"
   ]
  },
  {
   "cell_type": "markdown",
   "metadata": {},
   "source": [
    "the moving solution differs from the selected square because the discretized equation is an approximation of the continuous equation we want to solve. If you increase the grid fineness(which i have done) it will increase the solution wave."
   ]
  },
  {
   "cell_type": "markdown",
   "metadata": {},
   "source": [
    "Now, we will move on to non-linear convection equation"
   ]
  },
  {
   "cell_type": "markdown",
   "metadata": {},
   "source": [
    "The only difference here is that the linear case has a constant wave speed c, whereas this wave has a variable wace speed set to be u."
   ]
  },
  {
   "cell_type": "code",
   "execution_count": 36,
   "metadata": {},
   "outputs": [],
   "source": [
    "# set parameters for non-linear case\n",
    "nx  = 41 #number of spatial points\n",
    "L = 2.0 # length of the 1D domain\n",
    "dx = L / (nx - 1) #spatial grid size\n",
    "nt = 10 # number of time steps\n",
    "dt = 0.02 #time-step size\n",
    "\n",
    "x= ny.linspace(0.0, L, num=nx)\n",
    "u0 = ny.ones(nx)\n",
    "test = ny.where(ny.logical_and(x >= 0.5, x <= 1.0))\n",
    "u0[test] = 2.0"
   ]
  },
  {
   "cell_type": "markdown",
   "metadata": {},
   "source": [
    "now we can plot the initial conditions to see how it compares"
   ]
  },
  {
   "cell_type": "code",
   "execution_count": 39,
   "metadata": {},
   "outputs": [
    {
     "data": {
      "image/png": "[encoded data removed]",
      "text/plain": [
       "<Figure size 288x288 with 1 Axes>"
      ]
     },
     "metadata": {},
     "output_type": "display_data"
    }
   ],
   "source": [
    "py.figure(figsize=(4.0, 4.0))\n",
    "py.title('Initial Conditions')\n",
    "py.xlabel('x')\n",
    "py.ylabel('u')\n",
    "py.grid()\n",
    "py.plot(x, u0)\n",
    "py.xlim(0.0, L)\n",
    "py.ylim(0.0, 2.5);"
   ]
  },
  {
   "cell_type": "markdown",
   "metadata": {},
   "source": [
    "now, we can create code that changes the values within u all at the same time, instead of hwo before we changed them for each iteration."
   ]
  },
  {
   "cell_type": "code",
   "execution_count": 40,
   "metadata": {},
   "outputs": [],
   "source": [
    "u = u0.copy()\n",
    "for n in range(1, nt):\n",
    "    u[1:] = u[1:] - dt/dx * u[1:] *(u[1:] - u[:-1])"
   ]
  },
  {
   "cell_type": "code",
   "execution_count": 42,
   "metadata": {},
   "outputs": [
    {
     "data": {
      "image/png": "[encoded data removed]",
      "text/plain": [
       "<Figure size 288x288 with 1 Axes>"
      ]
     },
     "metadata": {},
     "output_type": "display_data"
    }
   ],
   "source": [
    "py.figure(figsize=(4.0, 4.0))\n",
    "py.xlabel('x')\n",
    "py.ylabel('u')\n",
    "py.grid()\n",
    "py.plot(x, u0, label='Initial', color='C0')\n",
    "py.plot(x, u, label= 'nt = {}'.format(nt), color='C1')\n",
    "py.xlim(0.0, L)\n",
    "py.ylim(0.0, 2.5);"
   ]
  },
  {
   "cell_type": "code",
   "execution_count": null,
   "metadata": {},
   "outputs": [],
   "source": []
  }
 ],
 "metadata": {
  "kernelspec": {
   "display_name": "Python 3",
   "language": "python",
   "name": "python3"
  },
  "language_info": {
   "codemirror_mode": {
    "name": "ipython",
    "version": 3
   },
   "file_extension": ".py",
   "mimetype": "text/x-python",
   "name": "python",
   "nbconvert_exporter": "python",
   "pygments_lexer": "ipython3",
   "version": "3.6.5"
  }
 },
 "nbformat": 4,
 "nbformat_minor": 2
}
