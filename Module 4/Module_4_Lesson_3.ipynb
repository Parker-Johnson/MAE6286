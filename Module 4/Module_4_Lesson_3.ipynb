{
 "cells": [
  {
   "cell_type": "code",
   "execution_count": 1,
   "metadata": {},
   "outputs": [],
   "source": [
    "import numpy as np\n",
    "from matplotlib import pyplot as py\n",
    "%matplotlib inline\n"
   ]
  },
  {
   "cell_type": "code",
   "execution_count": 2,
   "metadata": {},
   "outputs": [],
   "source": [
    "# set parameters for microchip problem\n",
    "\n",
    "Lx = 0.01 # length of chip\n",
    "Ly = 0.01 # width of chip\n",
    "nx = 21\n",
    "ny = 21\n",
    "\n",
    "dx = Lx / (nx - 1)\n",
    "dy = Ly / (ny - 1)\n",
    "alpha = 1e-4 # thermal diffusivity\n",
    "\n",
    "# now we have discretize our domain\n",
    "x = np.linspace(0.0, Lx, num=nx)\n",
    "y = np.linspace(0.0, Ly, num=ny)\n",
    "\n",
    "# describe the initial conditions\n",
    "T0 = 20.0 * np.ones((ny, nx))\n",
    "T0[0, :] = 100.0\n",
    "T0[:, 0] = 100.0\n"
   ]
  },
  {
   "cell_type": "code",
   "execution_count": 29,
   "metadata": {},
   "outputs": [],
   "source": [
    "def ftcs(T0, nt, dt, dx, dy, alpha):\n",
    "    T = T0.copy()\n",
    "    sigma_x = alpha * dt / dx**2\n",
    "    sigma_y = alpha * dt / dy**2\n",
    "    I = int(nx / 2)\n",
    "    J = int(ny / 2)\n",
    "    for n in range(nt):\n",
    "        for j in range(1, ny-1):\n",
    "            for i in range(1, nx-1):\n",
    "                T[j, i] = (T[j, i] + \n",
    "                           sigma_x * (T[j, i-1] - 2* T[j,i] + T[j, i+1]) +\n",
    "                           sigma_y * (T[j-1, i] - 2* T[j,i] + T[j+1, i]))\n",
    "                \n",
    "        T[0, :] = 100.0  # bottom initial condition\n",
    "        T[:, 0] = 100.0  # left initial condition\n",
    "        T[-1, :] = T[-2, :] #top initial condition\n",
    "        T[:, -1] = T[:, -2] #right initial condition\n",
    "        \n",
    "        if T[J, I] >= 70.0:\n",
    "            break\n",
    "    print('At time Step {}, the temp at center of chip is {} C'.format(n, T[J, I]))\n",
    "    return T"
   ]
  },
  {
   "cell_type": "code",
   "execution_count": 30,
   "metadata": {},
   "outputs": [],
   "source": [
    "# since it is explicit scheme, there are time stability constraints\n",
    "\n",
    "sigma = 0.5\n",
    "dt = sigma / (alpha * (1 / dx**2 + 1 / dy**2))\n",
    "nt = 500"
   ]
  },
  {
   "cell_type": "code",
   "execution_count": 31,
   "metadata": {
    "scrolled": true
   },
   "outputs": [
    {
     "name": "stdout",
     "output_type": "stream",
     "text": [
      "At time Step 127, the temp at center of chip is 70.12723235676388 C\n"
     ]
    }
   ],
   "source": [
    "T = ftcs(T0, nt, dt, dx, dy, alpha)"
   ]
  },
  {
   "cell_type": "code",
   "execution_count": 34,
   "metadata": {},
   "outputs": [
    {
     "data": {
      "image/png": "[encoded data removed]",
      "text/plain": [
       "<Figure size 576x360 with 2 Axes>"
      ]
     },
     "metadata": {},
     "output_type": "display_data"
    }
   ],
   "source": [
    "# now we need to vizualize the solution\n",
    "\n",
    "py.figure(figsize=(8.0, 5.0))\n",
    "py.xlabel('x [m]')\n",
    "py.ylabel('y [m]')\n",
    "contf = py.contourf(x, y, T, \n",
    "                    levels= np.linspace(20.0, 100.0, num=51))\n",
    "\n",
    "cbar = py.colorbar(contf)\n",
    "cbar.set_label('Temperature [C]')"
   ]
  },
  {
   "cell_type": "code",
   "execution_count": null,
   "metadata": {},
   "outputs": [],
   "source": []
  }
 ],
 "metadata": {
  "kernelspec": {
   "display_name": "Python 3",
   "language": "python",
   "name": "python3"
  },
  "language_info": {
   "codemirror_mode": {
    "name": "ipython",
    "version": 3
   },
   "file_extension": ".py",
   "mimetype": "text/x-python",
   "name": "python",
   "nbconvert_exporter": "python",
   "pygments_lexer": "ipython3",
   "version": "3.6.5"
  }
 },
 "nbformat": 4,
 "nbformat_minor": 2
}
