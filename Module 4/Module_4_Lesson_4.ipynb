{
 "cells": [
  {
   "cell_type": "code",
   "execution_count": 1,
   "metadata": {},
   "outputs": [],
   "source": [
    "# now we will be using implicit discretization scheme\n",
    "\n",
    "import numpy as np\n",
    "from matplotlib import pyplot as py\n",
    "%matplotlib inline\n",
    "from scipy import linalg"
   ]
  },
  {
   "cell_type": "code",
   "execution_count": 2,
   "metadata": {},
   "outputs": [],
   "source": [
    "def btcs(T0, nt, dt, delta, alpha, Tb):\n",
    "    ny, nx = T0.shape\n",
    "    M, N = nx - 2, ny - 2\n",
    "    sigma = alpha * dt / delta**2\n",
    "    A = lhs_operator(M, N, sigma)\n",
    "    T = T0[1:-1, 1:-1].flatten()\n",
    "    I, J = int(M/2), int(N /2)\n",
    "    for n in range(nt):\n",
    "        b = rhs_vector(T, M, N, sigma, Tb)\n",
    "        T = linalg.solve(A, b)\n",
    "        if T[J * M + I] >= 70.0:\n",
    "            break\n",
    "    print('Time step {}; temperature at center {}.'\n",
    "          .format(n, T[J * M+I]))\n",
    "    return map_1d_to_2d(T, nx, ny, Tb)\n",
    "        "
   ]
  },
  {
   "cell_type": "code",
   "execution_count": 3,
   "metadata": {},
   "outputs": [],
   "source": [
    "def map_1d_to_2d(T1, nx, ny, Tb):\n",
    "    T = np.xeros((ny, nx))\n",
    "    T[1:-1, 1:-1] = T1.reshape((ny-2, nx - 2))\n",
    "    \n",
    "    T[:, 0] = Tb\n",
    "    T[0, :] = Tb\n",
    "    T[:, -1] = T[:, -2]\n",
    "    T[-1, :] = T[-2, :]\n",
    "    return T"
   ]
  },
  {
   "cell_type": "code",
   "execution_count": 4,
   "metadata": {},
   "outputs": [],
   "source": [
    "def rhs_vector(T, M, N, sigma, Tb):\n",
    "    b = T / sigma\n",
    "    for j in range(N):\n",
    "        for i in range(M):\n",
    "            I = j * M +i\n",
    "            if i == 0:\n",
    "                b[I] += Tb\n",
    "            if j == 0:\n",
    "                b[I] += Tb\n",
    "            return b"
   ]
  },
  {
   "cell_type": "code",
   "execution_count": 5,
   "metadata": {},
   "outputs": [],
   "source": [
    "def lhs_operator(M, N, sigma):\n",
    "    A = np.zeros((M * N, M * N))\n",
    "    for j in range(N):\n",
    "        for i in range(M):\n",
    "            I = j * M + 1\n",
    "            IS = I - M\n",
    "            IW = I - 1\n",
    "            IE = I + 1\n",
    "            IN = I + M\n",
    "            if i == 0 and j == 0:\n",
    "                A[I, I] = 1.0/sigma + 4.0\n",
    "                A[I, IN] = -1.0\n",
    "                A[I, IE] = -1.0\n",
    "            elif i == 0 and j == N -1:\n",
    "                A[I, I] = 1.0 / sigma + 3.0\n",
    "                A[I, IS] = -1.0\n",
    "                A[I, IE] = -1.0\n",
    "            elif i == M-1 and j == 0:\n",
    "                A[I, I] = 1.0 / sigma + 3.0\n",
    "                A[I, IN] = -1.0\n",
    "                A[I, IW] = -1.0\n",
    "            elif i == M - 1 and j == N - 1:\n",
    "                A[I, I] = 1.0 / sigma + 2.0\n",
    "                A[I, IS] = -1.0\n",
    "                A[I, IW] = -1.0\n",
    "            elif i == 0:\n",
    "                A[I, I] = 1.0 / sigma + 4.0\n",
    "                A[I, IS] = -1.0\n",
    "                A[I, IE] = -1.0\n",
    "                A[I, IN] = -1.0\n",
    "            elif i == M - 1:\n",
    "                A[I,I] = 1.0 / sigma + 3.0\n",
    "                A[I, IS] = -1.0\n",
    "                A[I, IW] = -1.0\n",
    "                A[I, IN] = -1.0\n",
    "            elif j == N - 1:\n",
    "                A[I, I] = 1.0 / sigma + 3.0\n",
    "                A[I, IS] = -1.0\n",
    "                A[I, IW] = -1.0\n",
    "                A[I, IE] = -1.0\n",
    "            elif j == 0:\n",
    "                A[I, I] = 1.0 / sigma + 4.0\n",
    "                A[I, IW] = -1.0\n",
    "                A[I, IE] = -1.0\n",
    "                A[I, IN] = -1.0\n",
    "            else:\n",
    "                A[I, I] = 1/sigma + 4.0\n",
    "                A[I, IS] = -1.0\n",
    "                A[I, IW] = -1.0\n",
    "                A[I, IE] = -1.0\n",
    "                A[I, IN] = -1.0\n",
    "    return A"
   ]
  },
  {
   "cell_type": "code",
   "execution_count": 6,
   "metadata": {},
   "outputs": [],
   "source": [
    "Lx = 0.01 # length of chip\n",
    "Ly = 0.01 # width of chip\n",
    "nx = 21\n",
    "ny = 21\n",
    "\n",
    "dx = Lx / (nx - 1)\n",
    "dy = Ly / (ny - 1)\n",
    "alpha = 1e-4 # thermal diffusivity\n",
    "\n",
    "# now we have discretize our domain\n",
    "x = np.linspace(0.0, Lx, num=nx)\n",
    "y = np.linspace(0.0, Ly, num=ny)\n",
    "\n",
    "# describe the initial conditions\n",
    "T0 = 20.0 * np.ones((ny, nx))\n",
    "T0[0, :] = 100.0\n",
    "T0[:, 0] = 100.0"
   ]
  },
  {
   "cell_type": "code",
   "execution_count": 7,
   "metadata": {},
   "outputs": [],
   "source": [
    "sigma = 0.5\n",
    "dt = sigma / (alpha * (1 / dx**2 + 1 / dy**2))\n",
    "nt = 500"
   ]
  },
  {
   "cell_type": "code",
   "execution_count": 8,
   "metadata": {},
   "outputs": [
    {
     "ename": "LinAlgError",
     "evalue": "Matrix is singular.",
     "output_type": "error",
     "traceback": [
      "\u001b[0;31m---------------------------------------------------------------------------\u001b[0m",
      "\u001b[0;31mLinAlgError\u001b[0m                               Traceback (most recent call last)",
      "\u001b[0;32m<ipython-input-8-e99c921e267b>\u001b[0m in \u001b[0;36m<module>\u001b[0;34m()\u001b[0m\n\u001b[0;32m----> 1\u001b[0;31m \u001b[0mT\u001b[0m \u001b[0;34m=\u001b[0m \u001b[0mbtcs\u001b[0m\u001b[0;34m(\u001b[0m\u001b[0mT0\u001b[0m\u001b[0;34m,\u001b[0m \u001b[0mnt\u001b[0m\u001b[0;34m,\u001b[0m \u001b[0mdt\u001b[0m\u001b[0;34m,\u001b[0m \u001b[0mdx\u001b[0m\u001b[0;34m,\u001b[0m \u001b[0malpha\u001b[0m\u001b[0;34m,\u001b[0m \u001b[0;36m100.0\u001b[0m\u001b[0;34m)\u001b[0m\u001b[0;34m\u001b[0m\u001b[0m\n\u001b[0m",
      "\u001b[0;32m<ipython-input-2-f9f4df86d1d6>\u001b[0m in \u001b[0;36mbtcs\u001b[0;34m(T0, nt, dt, delta, alpha, Tb)\u001b[0m\n\u001b[1;32m      8\u001b[0m     \u001b[0;32mfor\u001b[0m \u001b[0mn\u001b[0m \u001b[0;32min\u001b[0m \u001b[0mrange\u001b[0m\u001b[0;34m(\u001b[0m\u001b[0mnt\u001b[0m\u001b[0;34m)\u001b[0m\u001b[0;34m:\u001b[0m\u001b[0;34m\u001b[0m\u001b[0m\n\u001b[1;32m      9\u001b[0m         \u001b[0mb\u001b[0m \u001b[0;34m=\u001b[0m \u001b[0mrhs_vector\u001b[0m\u001b[0;34m(\u001b[0m\u001b[0mT\u001b[0m\u001b[0;34m,\u001b[0m \u001b[0mM\u001b[0m\u001b[0;34m,\u001b[0m \u001b[0mN\u001b[0m\u001b[0;34m,\u001b[0m \u001b[0msigma\u001b[0m\u001b[0;34m,\u001b[0m \u001b[0mTb\u001b[0m\u001b[0;34m)\u001b[0m\u001b[0;34m\u001b[0m\u001b[0m\n\u001b[0;32m---> 10\u001b[0;31m         \u001b[0mT\u001b[0m \u001b[0;34m=\u001b[0m \u001b[0mlinalg\u001b[0m\u001b[0;34m.\u001b[0m\u001b[0msolve\u001b[0m\u001b[0;34m(\u001b[0m\u001b[0mA\u001b[0m\u001b[0;34m,\u001b[0m \u001b[0mb\u001b[0m\u001b[0;34m)\u001b[0m\u001b[0;34m\u001b[0m\u001b[0m\n\u001b[0m\u001b[1;32m     11\u001b[0m         \u001b[0;32mif\u001b[0m \u001b[0mT\u001b[0m\u001b[0;34m[\u001b[0m\u001b[0mJ\u001b[0m\u001b[0;34m*\u001b[0m \u001b[0mM\u001b[0m \u001b[0;34m+\u001b[0m \u001b[0mI\u001b[0m\u001b[0;34m]\u001b[0m \u001b[0;34m>=\u001b[0m \u001b[0;36m70.0\u001b[0m\u001b[0;34m:\u001b[0m\u001b[0;34m\u001b[0m\u001b[0m\n\u001b[1;32m     12\u001b[0m             \u001b[0;32mbreak\u001b[0m\u001b[0;34m\u001b[0m\u001b[0m\n",
      "\u001b[0;32m/anaconda3/lib/python3.6/site-packages/scipy/linalg/basic.py\u001b[0m in \u001b[0;36msolve\u001b[0;34m(a, b, sym_pos, lower, overwrite_a, overwrite_b, debug, check_finite, assume_a, transposed)\u001b[0m\n\u001b[1;32m    214\u001b[0m                                                (a1, b1))\n\u001b[1;32m    215\u001b[0m         \u001b[0mlu\u001b[0m\u001b[0;34m,\u001b[0m \u001b[0mipvt\u001b[0m\u001b[0;34m,\u001b[0m \u001b[0minfo\u001b[0m \u001b[0;34m=\u001b[0m \u001b[0mgetrf\u001b[0m\u001b[0;34m(\u001b[0m\u001b[0ma1\u001b[0m\u001b[0;34m,\u001b[0m \u001b[0moverwrite_a\u001b[0m\u001b[0;34m=\u001b[0m\u001b[0moverwrite_a\u001b[0m\u001b[0;34m)\u001b[0m\u001b[0;34m\u001b[0m\u001b[0m\n\u001b[0;32m--> 216\u001b[0;31m         \u001b[0m_solve_check\u001b[0m\u001b[0;34m(\u001b[0m\u001b[0mn\u001b[0m\u001b[0;34m,\u001b[0m \u001b[0minfo\u001b[0m\u001b[0;34m)\u001b[0m\u001b[0;34m\u001b[0m\u001b[0m\n\u001b[0m\u001b[1;32m    217\u001b[0m         x, info = getrs(lu, ipvt, b1,\n\u001b[1;32m    218\u001b[0m                         trans=trans, overwrite_b=overwrite_b)\n",
      "\u001b[0;32m/anaconda3/lib/python3.6/site-packages/scipy/linalg/basic.py\u001b[0m in \u001b[0;36m_solve_check\u001b[0;34m(n, info, lamch, rcond)\u001b[0m\n\u001b[1;32m     29\u001b[0m                          '.'.format(-info))\n\u001b[1;32m     30\u001b[0m     \u001b[0;32melif\u001b[0m \u001b[0;36m0\u001b[0m \u001b[0;34m<\u001b[0m \u001b[0minfo\u001b[0m\u001b[0;34m:\u001b[0m\u001b[0;34m\u001b[0m\u001b[0m\n\u001b[0;32m---> 31\u001b[0;31m         \u001b[0;32mraise\u001b[0m \u001b[0mLinAlgError\u001b[0m\u001b[0;34m(\u001b[0m\u001b[0;34m'Matrix is singular.'\u001b[0m\u001b[0;34m)\u001b[0m\u001b[0;34m\u001b[0m\u001b[0m\n\u001b[0m\u001b[1;32m     32\u001b[0m \u001b[0;34m\u001b[0m\u001b[0m\n\u001b[1;32m     33\u001b[0m     \u001b[0;32mif\u001b[0m \u001b[0mlamch\u001b[0m \u001b[0;32mis\u001b[0m \u001b[0;32mNone\u001b[0m\u001b[0;34m:\u001b[0m\u001b[0;34m\u001b[0m\u001b[0m\n",
      "\u001b[0;31mLinAlgError\u001b[0m: Matrix is singular."
     ]
    }
   ],
   "source": [
    "T = btcs(T0, nt, dt, dx, alpha, 100.0)"
   ]
  },
  {
   "cell_type": "code",
   "execution_count": null,
   "metadata": {},
   "outputs": [],
   "source": [
    "py.figure(figsize=(8.0, 5.0))\n",
    "py.xlabel('x [m]')\n",
    "py.ylabel('y [m]')\n",
    "contf = py.contourf(x, y, T, \n",
    "                    levels= np.linspace(20.0, 100.0, num=51))\n",
    "\n",
    "cbar = py.colorbar(contf)\n",
    "cbar.set_label('Temperature [C]')"
   ]
  },
  {
   "cell_type": "code",
   "execution_count": null,
   "metadata": {},
   "outputs": [],
   "source": []
  }
 ],
 "metadata": {
  "kernelspec": {
   "display_name": "Python 3",
   "language": "python",
   "name": "python3"
  },
  "language_info": {
   "codemirror_mode": {
    "name": "ipython",
    "version": 3
   },
   "file_extension": ".py",
   "mimetype": "text/x-python",
   "name": "python",
   "nbconvert_exporter": "python",
   "pygments_lexer": "ipython3",
   "version": "3.6.5"
  }
 },
 "nbformat": 4,
 "nbformat_minor": 2
}
